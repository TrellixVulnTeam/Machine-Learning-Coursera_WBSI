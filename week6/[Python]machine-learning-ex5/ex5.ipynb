{
 "cells": [
  {
   "cell_type": "markdown",
   "metadata": {},
   "source": [
    "# Machine Learning Online Class\n",
    "##  Exercise 5 | Regularized Linear Regression and Bias-Variance\n",
    "\n",
    "##  Instructions\n",
    "\n",
    "```\n",
    "\n",
    "%  This file contains code that helps you get started on the\n",
    "%  exercise. You will need to complete the following functions:\n",
    "%\n",
    "%     linearRegCostFunction.m\n",
    "%     learningCurve.m\n",
    "%     validationCurve.m\n",
    "%\n",
    "%  For this exercise, you will not need to change any code in this file,\n",
    "%  or any other files other than those mentioned above.\n",
    "```"
   ]
  },
  {
   "cell_type": "markdown",
   "metadata": {},
   "source": [
    "## ======== Part 1: Loading and Visualizing Data ==========\n",
    "\n",
    "```\n",
    "%  We start the exercise by first loading and visualizing the dataset. \n",
    "%  The following code will load the dataset into your environment and plot\n",
    "%  the data.\n",
    "%\n",
    "\n",
    "% Load Training Data\n",
    "fprintf('Loading and Visualizing Data ...\\n')\n",
    "\n",
    "% Load from ex5data1: \n",
    "% You will have X, y, Xval, yval, Xtest, ytest in your environment\n",
    "load ('ex5data1.mat');\n",
    "\n",
    "% m = Number of examples\n",
    "m = size(X, 1);\n",
    "\n",
    "% Plot training data\n",
    "plot(X, y, 'rx', 'MarkerSize', 10, 'LineWidth', 1.5);\n",
    "xlabel('Change in water level (x)');\n",
    "ylabel('Water flowing out of the dam (y)');\n",
    "\n",
    "fprintf('Program paused. Press enter to continue.\\n');\n",
    "pause;\n",
    "```"
   ]
  },
  {
   "cell_type": "code",
   "execution_count": 1,
   "metadata": {},
   "outputs": [],
   "source": [
    "import numpy as np\n",
    "import scipy.io\n",
    "data = scipy.io.loadmat('ex5data1.mat')"
   ]
  },
  {
   "cell_type": "code",
   "execution_count": 2,
   "metadata": {},
   "outputs": [],
   "source": [
    "X = data['X']\n",
    "y = data['y']\n",
    "Xtest = data['Xtest']\n",
    "ytest = data['ytest']\n",
    "Xval = data['Xval']\n",
    "yval = data['yval']"
   ]
  },
  {
   "cell_type": "code",
   "execution_count": 3,
   "metadata": {},
   "outputs": [
    {
     "name": "stdout",
     "output_type": "stream",
     "text": [
      "12\n"
     ]
    }
   ],
   "source": [
    "m = X.shape[0]\n",
    "print(m)"
   ]
  },
  {
   "cell_type": "code",
   "execution_count": 4,
   "metadata": {},
   "outputs": [
    {
     "data": {
      "text/plain": [
       "<Figure size 640x480 with 1 Axes>"
      ]
     },
     "metadata": {},
     "output_type": "display_data"
    }
   ],
   "source": [
    "import matplotlib.pyplot as plt\n",
    "plt.scatter(X, y, marker=\"x\", c=\"r\")\n",
    "plt.xlabel('Change in water level (x)')\n",
    "plt.ylabel('Water flowing out of the dam (y)')\n",
    "plt.title(\"Figure 1: Data\", y=-0.3)\n",
    "plt.show()"
   ]
  },
  {
   "cell_type": "markdown",
   "metadata": {},
   "source": [
    "## ======== Part 2: Regularized Linear Regression Cost ==========\n",
    "```\n",
    "%  You should now implement the cost function for regularized linear \n",
    "%  regression. \n",
    "%\n",
    "\n",
    "theta = [1 ; 1];\n",
    "J = linearRegCostFunction([ones(m, 1) X], y, theta, 1);\n",
    "\n",
    "fprintf(['Cost at theta = [1 ; 1]: %f '...\n",
    "         '\\n(this value should be about 303.993192)\\n'], J);\n",
    "\n",
    "fprintf('Program paused. Press enter to continue.\\n');\n",
    "pause;\n",
    "```"
   ]
  },
  {
   "cell_type": "code",
   "execution_count": 5,
   "metadata": {},
   "outputs": [],
   "source": [
    "from linearRegCostFunction import linearRegCostFunction"
   ]
  },
  {
   "cell_type": "code",
   "execution_count": 6,
   "metadata": {},
   "outputs": [
    {
     "name": "stdout",
     "output_type": "stream",
     "text": [
      "Cost at theta = [1 ; 1]:   303.9931922202643 \n",
      "(this value should be about 303.993192)\n"
     ]
    }
   ],
   "source": [
    "theta = np.array([[1] , [1]])\n",
    "X_bias = np.concatenate((np.ones((m, 1)), X), axis=1)\n",
    "J, grad = linearRegCostFunction(X_bias, y, theta, 1)\n",
    "\n",
    "print('Cost at theta = [1 ; 1]:  ', J[0][0],'\\n(this value should be about 303.993192)')"
   ]
  },
  {
   "cell_type": "markdown",
   "metadata": {},
   "source": [
    "## ====== Part 3: Regularized Linear Regression Gradient ======\n",
    "```\n",
    "%  You should now implement the gradient for regularized linear \n",
    "%  regression.\n",
    "%\n",
    "\n",
    "theta = [1 ; 1];\n",
    "[J, grad] = linearRegCostFunction([ones(m, 1) X], y, theta, 1);\n",
    "\n",
    "fprintf(['Gradient at theta = [1 ; 1]:  [%f; %f] '...\n",
    "         '\\n(this value should be about [-15.303016; 598.250744])\\n'], ...\n",
    "         grad(1), grad(2));\n",
    "\n",
    "fprintf('Program paused. Press enter to continue.\\n');\n",
    "pause;\n",
    "```"
   ]
  },
  {
   "cell_type": "code",
   "execution_count": 7,
   "metadata": {},
   "outputs": [
    {
     "name": "stdout",
     "output_type": "stream",
     "text": [
      "Gradient at theta = [1 ; 1]:  [-15.30301567 598.25074417] \n",
      "(this value should be about [-15.303016; 598.250744])\n"
     ]
    }
   ],
   "source": [
    "print('Gradient at theta = [1 ; 1]: ', grad,\n",
    "      '\\n(this value should be about [-15.303016; 598.250744])')"
   ]
  },
  {
   "cell_type": "markdown",
   "metadata": {},
   "source": [
    "## ======== Part 4: Train Linear Regression ==========\n",
    "```\n",
    "%  Once you have implemented the cost and gradient correctly, the\n",
    "%  trainLinearReg function will use your cost function to train \n",
    "%  regularized linear regression.\n",
    "% \n",
    "%  Write Up Note: The data is non-linear, so this will not give a great \n",
    "%                 fit.\n",
    "%\n",
    "\n",
    "%  Train linear regression with lambda = 0\n",
    "lambda = 0;\n",
    "[theta] = trainLinearReg([ones(m, 1) X], y, lambda);\n",
    "\n",
    "%  Plot fit over the data\n",
    "plot(X, y, 'rx', 'MarkerSize', 10, 'LineWidth', 1.5);\n",
    "xlabel('Change in water level (x)');\n",
    "ylabel('Water flowing out of the dam (y)');\n",
    "hold on;\n",
    "plot(X, [ones(m, 1) X]*theta, '--', 'LineWidth', 2)\n",
    "hold off;\n",
    "\n",
    "fprintf('Program paused. Press enter to continue.\\n');\n",
    "pause;\n",
    "```"
   ]
  },
  {
   "cell_type": "code",
   "execution_count": 8,
   "metadata": {},
   "outputs": [],
   "source": [
    "from trainLinearReg import trainLinearReg"
   ]
  },
  {
   "cell_type": "code",
   "execution_count": 9,
   "metadata": {},
   "outputs": [],
   "source": [
    "lbd = 0\n",
    "X_bias = np.concatenate((np.ones((m, 1)), X), axis=1)\n",
    "theta = trainLinearReg(X_bias, y, lbd)"
   ]
  },
  {
   "cell_type": "code",
   "execution_count": 10,
   "metadata": {},
   "outputs": [
    {
     "data": {
      "text/plain": [
       "array([13.08790351,  0.36777923])"
      ]
     },
     "execution_count": 10,
     "metadata": {},
     "output_type": "execute_result"
    }
   ],
   "source": [
    "theta"
   ]
  },
  {
   "cell_type": "code",
   "execution_count": 11,
   "metadata": {},
   "outputs": [
    {
     "data": {
      "text/plain": [
       "(12, 2)"
      ]
     },
     "execution_count": 11,
     "metadata": {},
     "output_type": "execute_result"
    }
   ],
   "source": [
    "X_bias.shape"
   ]
  },
  {
   "cell_type": "code",
   "execution_count": 12,
   "metadata": {},
   "outputs": [
    {
     "data": {
      "image/png": "[encoded data removed]",
      "text/plain": [
       "<Figure size 432x288 with 1 Axes>"
      ]
     },
     "metadata": {
      "needs_background": "light"
     },
     "output_type": "display_data"
    }
   ],
   "source": [
    "plt.scatter(X, y, marker=\"x\", c=\"r\")\n",
    "plt.plot(X, X_bias.dot(theta), c=\"b\")\n",
    "plt.xlabel('Change in water level (x)')\n",
    "plt.ylabel('Water flowing out of the dam (y)')\n",
    "plt.title(\"Figure 2: Linear Fit\", y=-0.3)\n",
    "plt.show()"
   ]
  },
  {
   "cell_type": "markdown",
   "metadata": {},
   "source": [
    "## ======== Part 5: Learning Curve for Linear Regression ==========\n",
    "```\n",
    "%  Next, you should implement the learningCurve function. \n",
    "%\n",
    "%  Write Up Note: Since the model is underfitting the data, we expect to\n",
    "%                 see a graph with \"high bias\" -- Figure 3 in ex5.pdf \n",
    "%\n",
    "\n",
    "lambda = 0;\n",
    "[error_train, error_val] = ...\n",
    "    learningCurve([ones(m, 1) X], y, ...\n",
    "                  [ones(size(Xval, 1), 1) Xval], yval, ...\n",
    "                  lambda);\n",
    "\n",
    "plot(1:m, error_train, 1:m, error_val);\n",
    "title('Learning curve for linear regression')\n",
    "legend('Train', 'Cross Validation')\n",
    "xlabel('Number of training examples')\n",
    "ylabel('Error')\n",
    "axis([0 13 0 150])\n",
    "\n",
    "fprintf('# Training Examples\\tTrain Error\\tCross Validation Error\\n');\n",
    "for i = 1:m\n",
    "    fprintf('  \\t%d\\t\\t%f\\t%f\\n', i, error_train(i), error_val(i));\n",
    "end\n",
    "\n",
    "fprintf('Program paused. Press enter to continue.\\n');\n",
    "pause;\n",
    "```"
   ]
  },
  {
   "cell_type": "code",
   "execution_count": 13,
   "metadata": {},
   "outputs": [],
   "source": [
    "from learningCurve import learningCurve"
   ]
  },
  {
   "cell_type": "code",
   "execution_count": 14,
   "metadata": {},
   "outputs": [],
   "source": [
    "lbd = 0\n",
    "X_bias = np.concatenate((np.ones((m, 1)), X), axis=1)\n",
    "X_val_bias = np.concatenate((np.ones((Xval.shape[0], 1)), Xval), axis=1)\n",
    "error_train, error_val = learningCurve(X_bias, y,\n",
    "                                       X_val_bias, yval,\n",
    "                                       lbd)"
   ]
  },
  {
   "cell_type": "code",
   "execution_count": 15,
   "metadata": {},
   "outputs": [
    {
     "data": {
      "image/png": "[encoded data removed]",
      "text/plain": [
       "<Figure size 432x288 with 1 Axes>"
      ]
     },
     "metadata": {
      "needs_background": "light"
     },
     "output_type": "display_data"
    }
   ],
   "source": [
    "p1, p2 = plt.plot(range(m), error_train, range(m), error_val)\n",
    "plt.title('Figure 3: Linear regression learning curve', y =-0.3)\n",
    "plt.legend((p1, p2), ('Train', 'Cross Validation'), numpoints=1, handlelength=0.5)\n",
    "plt.xlabel('Number of training examples')\n",
    "plt.ylabel('Error')\n",
    "plt.axis([0, 13, 0, 150])\n",
    "plt.show()"
   ]
  },
  {
   "cell_type": "code",
   "execution_count": 16,
   "metadata": {},
   "outputs": [
    {
     "name": "stdout",
     "output_type": "stream",
     "text": [
      "# Training Examples\tTrain Error\tCross Validation Error\n",
      "\n",
      "  \t0\t\t0.000000\t205.121096\n",
      "\n",
      "  \t1\t\t0.000000\t110.300366\n",
      "\n",
      "  \t2\t\t3.286595\t45.010231\n",
      "\n",
      "  \t3\t\t2.842678\t48.368911\n",
      "\n",
      "  \t4\t\t13.154049\t35.865165\n",
      "\n",
      "  \t5\t\t19.443963\t33.829962\n",
      "\n",
      "  \t6\t\t20.098522\t31.970986\n",
      "\n",
      "  \t7\t\t18.172859\t30.862446\n",
      "\n",
      "  \t8\t\t22.609405\t31.135998\n",
      "\n",
      "  \t9\t\t23.261462\t28.936207\n",
      "\n",
      "  \t10\t\t24.317250\t29.551432\n",
      "\n",
      "  \t11\t\t22.373906\t29.433818\n",
      "\n"
     ]
    }
   ],
   "source": [
    "print('# Training Examples\\tTrain Error\\tCross Validation Error\\n')\n",
    "for i in range(m):\n",
    "    print('  \\t{}\\t\\t{:.6f}\\t{:.6f}\\n'.format(i, error_train[i][0], error_val[i][0]))"
   ]
  },
  {
   "cell_type": "markdown",
   "metadata": {},
   "source": [
    "## ====== Part 6: Feature Mapping for Polynomial Regression ======\n",
    "```\n",
    "%  One solution to this is to use polynomial regression. You should now\n",
    "%  complete polyFeatures to map each example into its powers\n",
    "%\n",
    "\n",
    "p = 8;\n",
    "\n",
    "% Map X onto Polynomial Features and Normalize\n",
    "X_poly = polyFeatures(X, p);\n",
    "[X_poly, mu, sigma] = featureNormalize(X_poly);  % Normalize\n",
    "X_poly = [ones(m, 1), X_poly];                   % Add Ones\n",
    "\n",
    "% Map X_poly_test and normalize (using mu and sigma)\n",
    "X_poly_test = polyFeatures(Xtest, p);\n",
    "X_poly_test = bsxfun(@minus, X_poly_test, mu);\n",
    "X_poly_test = bsxfun(@rdivide, X_poly_test, sigma);\n",
    "X_poly_test = [ones(size(X_poly_test, 1), 1), X_poly_test];         % Add Ones\n",
    "\n",
    "% Map X_poly_val and normalize (using mu and sigma)\n",
    "X_poly_val = polyFeatures(Xval, p);\n",
    "X_poly_val = bsxfun(@minus, X_poly_val, mu);\n",
    "X_poly_val = bsxfun(@rdivide, X_poly_val, sigma);\n",
    "X_poly_val = [ones(size(X_poly_val, 1), 1), X_poly_val];           % Add Ones\n",
    "\n",
    "fprintf('Normalized Training Example 1:\\n');\n",
    "fprintf('  %f  \\n', X_poly(1, :));\n",
    "\n",
    "fprintf('\\nProgram paused. Press enter to continue.\\n');\n",
    "pause;\n",
    "```"
   ]
  },
  {
   "cell_type": "code",
   "execution_count": 17,
   "metadata": {},
   "outputs": [],
   "source": [
    "from featureNormalize import featureNormalize\n",
    "# from polyFeatures import polyFeatures"
   ]
  },
  {
   "cell_type": "code",
   "execution_count": 38,
   "metadata": {},
   "outputs": [],
   "source": [
    "import numpy as np\n",
    "def polyFeatures(X, p):\n",
    "    \"\"\"\n",
    "    \"\"\"\n",
    "    # You need to return the following variables correctly.\n",
    "    X_poly = np.zeros((len(X), p))\n",
    "\n",
    "\n",
    "    X = X.reshape(-1,1)\n",
    "    X_poly[:,:p] = np.power(X, np.array([range(1, p+1)]))\n",
    "    \n",
    "    return X_poly"
   ]
  },
  {
   "cell_type": "code",
   "execution_count": 39,
   "metadata": {},
   "outputs": [
    {
     "name": "stdout",
     "output_type": "stream",
     "text": [
      "Normalized Training Example 1:\n",
      "[[ 1.        ]\n",
      " [-0.3782437 ]\n",
      " [-0.78866232]\n",
      " [ 0.19032872]\n",
      " [-0.7375913 ]\n",
      " [ 0.32025197]\n",
      " [-0.6171516 ]\n",
      " [ 0.35983501]\n",
      " [-0.53109126]]\n"
     ]
    }
   ],
   "source": [
    "\n",
    "p = 8\n",
    "\n",
    "# Map X onto Polynomial Features and Normalize\n",
    "X_poly = polyFeatures(X, p)\n",
    "X_poly, mu, sigma = featureNormalize(X_poly)  # Normalize\n",
    "X_poly = np.concatenate((np.ones((m,1)), X_poly), axis=1) # Add Ones\n",
    "\n",
    "# # Map X_poly_test and normalize (using mu and sigma)\n",
    "X_poly_test = polyFeatures(Xtest, p)\n",
    "X_poly_test = X_poly_test - mu\n",
    "X_poly_test = X_poly_test / sigma\n",
    "X_poly_test = np.concatenate((np.ones((X_poly_test.shape[0],1)), X_poly_test), axis=1) # Add Ones\n",
    "\n",
    "# # Map X_poly_val and normalize (using mu and sigma)\n",
    "X_poly_val = polyFeatures(Xval, p)\n",
    "X_poly_val = X_poly_val - mu\n",
    "X_poly_val = X_poly_val / sigma\n",
    "X_poly_val = np.concatenate((np.ones((X_poly_val.shape[0],1)), X_poly_val), axis=1) # Add Ones\n",
    "\n",
    "print('Normalized Training Example 1:')\n",
    "print(X_poly[0, :].reshape(-1,1))"
   ]
  },
  {
   "cell_type": "markdown",
   "metadata": {},
   "source": [
    "## ======= Part 7: Learning Curve for Polynomial Regression ======\n",
    "```\n",
    "%  Now, you will get to experiment with polynomial regression with multiple\n",
    "%  values of lambda. The code below runs polynomial regression with \n",
    "%  lambda = 0. You should try running the code with different values of\n",
    "%  lambda to see how the fit and learning curve change.\n",
    "%\n",
    "\n",
    "lambda = 0;\n",
    "[theta] = trainLinearReg(X_poly, y, lambda);\n",
    "\n",
    "% Plot training data and fit\n",
    "figure(1);\n",
    "plot(X, y, 'rx', 'MarkerSize', 10, 'LineWidth', 1.5);\n",
    "plotFit(min(X), max(X), mu, sigma, theta, p);\n",
    "xlabel('Change in water level (x)');\n",
    "ylabel('Water flowing out of the dam (y)');\n",
    "title (sprintf('Polynomial Regression Fit (lambda = %f)', lambda));\n",
    "\n",
    "figure(2);\n",
    "[error_train, error_val] = ...\n",
    "    learningCurve(X_poly, y, X_poly_val, yval, lambda);\n",
    "plot(1:m, error_train,'rb', 1:m, error_val);\n",
    "\n",
    "title(sprintf('Polynomial Regression Learning Curve (lambda = %f)', lambda));\n",
    "xlabel('Number of training examples')\n",
    "ylabel('Error')\n",
    "axis([0 13 0 100])\n",
    "legend('Train', 'Cross Validation')\n",
    "\n",
    "fprintf('Polynomial Regression (lambda = %f)\\n\\n', lambda);\n",
    "fprintf('# Training Examples\\tTrain Error\\tCross Validation Error\\n');\n",
    "for i = 1:m\n",
    "    fprintf('  \\t%d\\t\\t%f\\t%f\\n', i, error_train(i), error_val(i));\n",
    "end\n",
    "\n",
    "fprintf('Program paused. Press enter to continue.\\n');\n",
    "pause;\n",
    "```"
   ]
  },
  {
   "cell_type": "code",
   "execution_count": 39,
   "metadata": {},
   "outputs": [],
   "source": [
    "lbd = 0\n",
    "theta = trainLinearReg(X_poly, y, lbd)"
   ]
  },
  {
   "cell_type": "code",
   "execution_count": 40,
   "metadata": {},
   "outputs": [],
   "source": [
    "theta = theta.reshape(-1,1)"
   ]
  },
  {
   "cell_type": "code",
   "execution_count": 41,
   "metadata": {},
   "outputs": [],
   "source": [
    "from plotFit import plotFit"
   ]
  },
  {
   "cell_type": "code",
   "execution_count": 42,
   "metadata": {},
   "outputs": [
    {
     "data": {
      "image/png": "[encoded data removed]",
      "text/plain": [
       "<Figure size 432x288 with 1 Axes>"
      ]
     },
     "metadata": {
      "needs_background": "light"
     },
     "output_type": "display_data"
    }
   ],
   "source": [
    "plt.plot(X, y, 'rx', markersize=10, linewidth=1.5)\n",
    "plotFit(min(X), max(X), mu, sigma, theta, p)\n",
    "plt.axis([-100, 100, -100, 40])\n",
    "plt.xlabel('Change in water level (x)') \n",
    "plt.ylabel('Water flowing out of the dam (y)')\n",
    "plt.title ('Polynomial Regression Fit (lambda = {:f})'.format(lbd), y=-0.3)\n",
    "plt.show()"
   ]
  },
  {
   "cell_type": "code",
   "execution_count": 43,
   "metadata": {},
   "outputs": [
    {
     "data": {
      "image/png": "[encoded data removed]",
      "text/plain": [
       "<Figure size 432x288 with 1 Axes>"
      ]
     },
     "metadata": {
      "needs_background": "light"
     },
     "output_type": "display_data"
    }
   ],
   "source": [
    "error_train, error_val = learningCurve(X_poly, y, X_poly_val, yval, lbd)\n",
    "p1, p2 = plt.plot(range(m), error_train, range(m), error_val)\n",
    "plt.title ('Polynomial Regression Learning Curve (lambda = {:f})'.format(lbd), y=-0.3)\n",
    "\n",
    "plt.xlabel('Number of training examples')\n",
    "plt.ylabel('Error')\n",
    "plt.axis([0, 13, 0, 100])\n",
    "plt.legend((p1,p2), ('Train', 'Cross Validation'), numpoints=1, handlelength=0.5)\n",
    "plt.show()"
   ]
  },
  {
   "cell_type": "code",
   "execution_count": 44,
   "metadata": {},
   "outputs": [
    {
     "name": "stdout",
     "output_type": "stream",
     "text": [
      "Polynomial Regression (lambda = 0.000000)\n",
      "# Training Examples\tTrain Error\tCross Validation Error\n",
      "\n",
      "  \t0\t\t0.000000\t161.442168\n",
      "\n",
      "  \t1\t\t0.000000\t160.792306\n",
      "\n",
      "  \t2\t\t0.000000\t67.085334\n",
      "\n",
      "  \t3\t\t0.000000\t67.726856\n",
      "\n",
      "  \t4\t\t0.000000\t6.617001\n",
      "\n",
      "  \t5\t\t0.000000\t10.641948\n",
      "\n",
      "  \t6\t\t0.000000\t27.990140\n",
      "\n",
      "  \t7\t\t0.000000\t22.704591\n",
      "\n",
      "  \t8\t\t0.000258\t32.498511\n",
      "\n",
      "  \t9\t\t0.010818\t96.821936\n",
      "\n",
      "  \t10\t\t0.031219\t50.932098\n",
      "\n",
      "  \t11\t\t0.028890\t53.892769\n",
      "\n"
     ]
    }
   ],
   "source": [
    "print('Polynomial Regression (lambda = {:f})'.format(lbd))\n",
    "print('# Training Examples\\tTrain Error\\tCross Validation Error\\n')\n",
    "for i in range(m):\n",
    "    print('  \\t{}\\t\\t{:.6f}\\t{:.6f}\\n'.format(i, error_train[i][0], error_val[i][0]))"
   ]
  },
  {
   "cell_type": "markdown",
   "metadata": {},
   "source": [
    "## ======== Part 8: Validation for Selecting Lambda ==========\n",
    "```\n",
    "%  You will now implement validationCurve to test various values of \n",
    "%  lambda on a validation set. You will then use this to select the\n",
    "%  \"best\" lambda value.\n",
    "%\n",
    "\n",
    "[lambda_vec, error_train, error_val] = ...\n",
    "    validationCurve(X_poly, y, X_poly_val, yval);\n",
    "\n",
    "close all;\n",
    "plot(lambda_vec, error_train, 'rb', lambda_vec, error_val);\n",
    "legend('Train', 'Cross Validation');\n",
    "xlabel('lambda');\n",
    "ylabel('Error');\n",
    "\n",
    "fprintf('lambda\\t\\tTrain Error\\tValidation Error\\n');\n",
    "for i = 1:length(lambda_vec)\n",
    "\tfprintf(' %f\\t%f\\t%f\\n', ...\n",
    "            lambda_vec(i), error_train(i), error_val(i));\n",
    "end\n",
    "\n",
    "fprintf('Program paused. Press enter to continue.\\n');\n",
    "pause;\n",
    "```"
   ]
  },
  {
   "cell_type": "code",
   "execution_count": 45,
   "metadata": {},
   "outputs": [],
   "source": [
    "def validationCurve(X, y, Xval, yval):\n",
    "    # Selected values of lambda (you should not change this)\n",
    "    lambda_vec = np.array([0, 0.001, 0.003, 0.01, 0.03, 0.1, 0.3, 1, 3, 10])\n",
    "    # You need to return these variables correctly.\n",
    "    error_train = np.zeros((len(lambda_vec), 1))\n",
    "    error_val = np.zeros((len(lambda_vec), 1))\n",
    "    \n",
    "    #      ====================== YOUR CODE HERE ======================\n",
    "    #  Instructions: Fill in this function to return training errors in \n",
    "    #                error_train and the validation errors in error_val. The \n",
    "    #                vector lambda_vec contains the different lambda parameters \n",
    "    #                to use for each calculation of the errors, i.e, \n",
    "    #                error_train(i), and error_val(i) should give \n",
    "    #                you the errors obtained after training with \n",
    "    #                lambda = lambda_vec(i)\n",
    "    for i in range(len(lambda_vec)):\n",
    "        lbd = lambda_vec[i]\n",
    "        \n",
    "        theta = trainLinearReg(X, y, lbd)\n",
    "        \n",
    "        error_train[i] = linearRegCostFunction(X, y, theta, 0)[0] # lambda = 0\n",
    "        error_val[i] = linearRegCostFunction(Xval, yval, theta, 0)[0] # lambda = 0\n",
    "    \n",
    "    return lambda_vec, error_train, error_val"
   ]
  },
  {
   "cell_type": "code",
   "execution_count": 46,
   "metadata": {},
   "outputs": [
    {
     "data": {
      "image/png": "[encoded data removed]",
      "text/plain": [
       "<Figure size 432x288 with 1 Axes>"
      ]
     },
     "metadata": {
      "needs_background": "light"
     },
     "output_type": "display_data"
    }
   ],
   "source": [
    "lambda_vec, error_train, error_val = validationCurve(X_poly, y, X_poly_val, yval)\n",
    "\n",
    "p1, p2 = plt.plot(lambda_vec, error_train, lambda_vec, error_val)\n",
    "plt.legend((p1, p2), ('Train', 'Cross Validation'))\n",
    "plt.xlabel('lambda')\n",
    "plt.ylabel('Error')\n",
    "plt.axis([0, 10, 0, 20])\n",
    "plt.show()"
   ]
  },
  {
   "cell_type": "code",
   "execution_count": 47,
   "metadata": {},
   "outputs": [
    {
     "name": "stdout",
     "output_type": "stream",
     "text": [
      "lambda\t\tTrain Error\tValidation Error\n",
      "\n",
      " 0.0\t\t0.028890\t53.892769\n",
      "\n",
      " 0.001\t\t0.108004\t9.356699\n",
      "\n",
      " 0.003\t\t0.166723\t15.923156\n",
      "\n",
      " 0.01\t\t0.217958\t17.149315\n",
      "\n",
      " 0.03\t\t0.275149\t13.216183\n",
      "\n",
      " 0.1\t\t0.438656\t7.926826\n",
      "\n",
      " 0.3\t\t0.868209\t4.760732\n",
      "\n",
      " 1.0\t\t1.958697\t4.263453\n",
      "\n",
      " 3.0\t\t4.525101\t3.832184\n",
      "\n",
      " 10.0\t\t14.825780\t8.889697\n",
      "\n"
     ]
    }
   ],
   "source": [
    "print('lambda\\t\\tTrain Error\\tValidation Error\\n');\n",
    "for i in range(len(lambda_vec)):\n",
    "    print(' {}\\t\\t{:.6f}\\t{:.6f}\\n'.format(lambda_vec[i], error_train[i][0], error_val[i][0]))"
   ]
  }
 ],
 "metadata": {
  "kernelspec": {
   "display_name": "Python 3",
   "language": "python",
   "name": "python3"
  },
  "language_info": {
   "codemirror_mode": {
    "name": "ipython",
    "version": 3
   },
   "file_extension": ".py",
   "mimetype": "text/x-python",
   "name": "python",
   "nbconvert_exporter": "python",
   "pygments_lexer": "ipython3",
   "version": "3.6.8"
  }
 },
 "nbformat": 4,
 "nbformat_minor": 2
}
