{
 "cells": [
  {
   "cell_type": "markdown",
   "metadata": {},
   "source": [
    "# Machine Learning Online Class - Exercise 2: Logistic Regression\n",
    "\n",
    "## Instructions\n",
    "In this exercise, you will implement logistic regression and apply it to two\n",
    "different datasets. Before starting on the programming exercise, we strongly\n",
    "recommend watching the video lectures and completing the review questions\n",
    "for the associated topics.\n",
    "To get started with the exercise, you will need to download the starter\n",
    "code and unzip its contents to the directory where you wish to complete the\n",
    "exercise. If needed, use the cd command in Octave/MATLAB to change to\n",
    "this directory before starting this exercise.\n",
    "You can also find instructions for installing Octave/MATLAB in the “En-\n",
    "vironment Setup Instructions” of the course website.\n",
    "\n",
    "```\n",
    "Files included in this exercise\n",
    "    ex2.m - Octave/MATLAB script that steps you through the exercise\n",
    "    ex2 reg.m - Octave/MATLAB script for the later parts of the exercise\n",
    "    ex2data1.txt - Training set for the first half of the exercise\n",
    "    ex2data2.txt - Training set for the second half of the exercise\n",
    "    submit.m - Submission script that sends your solutions to our servers\n",
    "    mapFeature.m - Function to generate polynomial features\n",
    "    plotDecisionBoundary.m - Function to plot classifier’s decision bound-\n",
    "    ary\n",
    "    [*] plotData.m - Function to plot 2D classification data\n",
    "    [?] sigmoid.m - Sigmoid Function\n",
    "    [?] costFunction.m - Logistic Regression Cost Function\n",
    "    [?] predict.m - Logistic Regression Prediction Function\n",
    "    [?] costFunctionReg.m - Regularized Logistic Regression Cost\n",
    "    ? indicates files you will need to complete\n",
    "```"
   ]
  },
  {
   "cell_type": "markdown",
   "metadata": {},
   "source": [
    "## Matlab code:\n",
    "```\n",
    "%% Load Data\n",
    "%  The first two columns contains the exam scores and the third column\n",
    "%  contains the label.\n",
    "\n",
    "data = load('ex2data1.txt');\n",
    "X = data(:, [1, 2]); y = data(:, 3);\n",
    "\n",
    "%% ==================== Part 1: Plotting ====================\n",
    "%  We start the exercise by first plotting the data to understand the \n",
    "%  the problem we are working with.\n",
    "\n",
    "fprintf(['Plotting data with + indicating (y = 1) examples and o ' ...\n",
    "         'indicating (y = 0) examples.\\n']);\n",
    "\n",
    "plotData(X, y);\n",
    "\n",
    "% Put some labels \n",
    "hold on;\n",
    "% Labels and Legend\n",
    "xlabel('Exam 1 score')\n",
    "ylabel('Exam 2 score')\n",
    "\n",
    "% Specified in plot order\n",
    "legend('Admitted', 'Not admitted')\n",
    "hold off;\n",
    "\n",
    "fprintf('\\nProgram paused. Press enter to continue.\\n');\n",
    "pause;\n",
    "```"
   ]
  },
  {
   "cell_type": "code",
   "execution_count": 1,
   "metadata": {},
   "outputs": [],
   "source": [
    "import numpy as np\n",
    "import matplotlib.pyplot as plt"
   ]
  },
  {
   "cell_type": "code",
   "execution_count": 2,
   "metadata": {},
   "outputs": [],
   "source": [
    "data = np.loadtxt('ex2data1.txt', delimiter=\",\")\n",
    "X = data[:, :2] # input\n",
    "y = data[:, 2] # output"
   ]
  },
  {
   "cell_type": "code",
   "execution_count": 3,
   "metadata": {},
   "outputs": [
    {
     "data": {
      "image/png": "[encoded data removed]",
      "text/plain": [
       "<Figure size 432x288 with 1 Axes>"
      ]
     },
     "metadata": {
      "needs_background": "light"
     },
     "output_type": "display_data"
    }
   ],
   "source": [
    "import pandas as pd\n",
    "data = pd.read_csv('ex2data1.txt', header = None)\n",
    "X = data.iloc[:,:-1]\n",
    "y = data.iloc[:,2]\n",
    "mask = y == 1\n",
    "one= plt.scatter(X[mask][0].values, X[mask][1].values, c='black',marker=\"+\")\n",
    "zero = plt.scatter(X[~mask][0].values, X[~mask][1].values, c='yellow')\n",
    "plt.xlabel('Exam 1 score')\n",
    "plt.ylabel('Exam 2 score')\n",
    "\n",
    "plt.legend((one, zero), ('Admitted', 'No Admitteds'), loc = \"upper right\" )\n",
    "plt.title('Figure 1: Scatter plot of training data', y=-0.25)\n",
    "plt.show()"
   ]
  },
  {
   "cell_type": "markdown",
   "metadata": {},
   "source": [
    "## ============ Part 2: Compute Cost and Gradient ============\n",
    "```\n",
    "%  In this part of the exercise, you will implement the cost and gradient\n",
    "%  for logistic regression. You neeed to complete the code in \n",
    "%  costFunction.m\n",
    "\n",
    "%  Setup the data matrix appropriately, and add ones for the intercept term\n",
    "[m, n] = size(X);\n",
    "\n",
    "% Add intercept term to x and X_test\n",
    "X = [ones(m, 1) X];\n",
    "\n",
    "% Initialize fitting parameters\n",
    "initial_theta = zeros(n + 1, 1);\n",
    "\n",
    "% Compute and display initial cost and gradient\n",
    "[cost, grad] = costFunction(initial_theta, X, y);\n",
    "\n",
    "fprintf('Cost at initial theta (zeros): %f\\n', cost);\n",
    "fprintf('Expected cost (approx): 0.693\\n');\n",
    "fprintf('Gradient at initial theta (zeros): \\n');\n",
    "fprintf(' %f \\n', grad);\n",
    "fprintf('Expected gradients (approx):\\n -0.1000\\n -12.0092\\n -11.2628\\n');\n",
    "\n",
    "% Compute and display cost and gradient with non-zero theta\n",
    "test_theta = [-24; 0.2; 0.2];\n",
    "[cost, grad] = costFunction(test_theta, X, y);\n",
    "\n",
    "fprintf('\\nCost at test theta: %f\\n', cost);\n",
    "fprintf('Expected cost (approx): 0.218\\n');\n",
    "fprintf('Gradient at test theta: \\n');\n",
    "fprintf(' %f \\n', grad);\n",
    "fprintf('Expected gradients (approx):\\n 0.043\\n 2.566\\n 2.647\\n');\n",
    "\n",
    "fprintf('\\nProgram paused. Press enter to continue.\\n');\n",
    "pause;\n",
    "```"
   ]
  },
  {
   "cell_type": "code",
   "execution_count": 4,
   "metadata": {},
   "outputs": [],
   "source": [
    "from sigmoid import sigmoid\n",
    "from costFunction import costFunction"
   ]
  },
  {
   "cell_type": "code",
   "execution_count": 5,
   "metadata": {},
   "outputs": [
    {
     "name": "stdout",
     "output_type": "stream",
     "text": [
      "Cost at initial theta (zeros):  0.6931471805599453\n",
      "Expected cost (approx): 0.693\n",
      "Gradient at initial theta (zeros): \n",
      "-0.1\n",
      "-12.009216589291153\n",
      "-11.262842205513593\n",
      "Expected gradients (approx):\n",
      "-0.1000\n",
      "-12.0092\n",
      "-11.2628\n",
      "Cost at test theta:  0.2183301938265978\n",
      "Expected cost (approx): 0.218\n",
      "Gradient at test theta: \n",
      "0.04290299489953446\n",
      "2.5662341155107558\n",
      "2.6467973710824326\n",
      "Expected gradients (approx):\n",
      "0.043\n",
      "2.566\n",
      "2.647\n",
      "\n"
     ]
    }
   ],
   "source": [
    "# load data\n",
    "data = np.loadtxt('ex2data1.txt', delimiter=\",\")\n",
    "X = data[:, :2] # input 100x2\n",
    "y = data[:, 2] # output (100,)\n",
    "y = y.reshape(-1, 1) # 100x1\n",
    "#  Add intercept term to x and X_test\n",
    "X = np.concatenate((np.ones((X.shape[0], 1)), X), axis=1) # 100x3\n",
    "\n",
    "#Initialize fitting parameters\n",
    "initial_theta = np.zeros((X.shape[1], 1)) # 3x1\n",
    "\n",
    "\n",
    "cost, grad = costFunction(initial_theta, X, y)\n",
    "\n",
    "print('Cost at initial theta (zeros): ', cost[0,0])\n",
    "print('Expected cost (approx): 0.693')\n",
    "print('Gradient at initial theta (zeros): ')\n",
    "for _grad in grad:\n",
    "    print(_grad[0])\n",
    "print('Expected gradients (approx):\\n-0.1000\\n-12.0092\\n-11.2628')\n",
    "\n",
    "# Compute and display cost and gradient with non-zero theta\n",
    "test_theta = np.array([-24, 0.2, 0.2]) # (3,)\n",
    "test_theta = test_theta.reshape(-1,1) #(3, 1)\n",
    "cost, grad = costFunction(test_theta, X, y)\n",
    "\n",
    "print('Cost at test theta: ', cost[0,0])\n",
    "print('Expected cost (approx): 0.218')\n",
    "print('Gradient at test theta: ')\n",
    "for _grad in grad:\n",
    "    print(_grad[0])\n",
    "print('Expected gradients (approx):\\n0.043\\n2.566\\n2.647\\n')"
   ]
  },
  {
   "cell_type": "markdown",
   "metadata": {},
   "source": [
    "## ============= Part 3: Optimizing using fminunc  =============\n",
    "```\n",
    "%  In this exercise, you will use a built-in function (fminunc) to find the\n",
    "%  optimal parameters theta.\n",
    "\n",
    "%  Set options for fminunc\n",
    "options = optimset('GradObj', 'on', 'MaxIter', 400);\n",
    "\n",
    "%  Run fminunc to obtain the optimal theta\n",
    "%  This function will return theta and the cost \n",
    "[theta, cost] = ...\n",
    "\tfminunc(@(t)(costFunction(t, X, y)), initial_theta, options);\n",
    "\n",
    "% Print theta to screen\n",
    "fprintf('Cost at theta found by fminunc: %f\\n', cost);\n",
    "fprintf('Expected cost (approx): 0.203\\n');\n",
    "fprintf('theta: \\n');\n",
    "fprintf(' %f \\n', theta);\n",
    "fprintf('Expected theta (approx):\\n');\n",
    "fprintf(' -25.161\\n 0.206\\n 0.201\\n');\n",
    "```"
   ]
  },
  {
   "cell_type": "code",
   "execution_count": 11,
   "metadata": {},
   "outputs": [],
   "source": [
    "def costFunction(theta, *args):\n",
    "    \"\"\"Compute cost and gradient for logistic regression \"\"\"\n",
    "    (X, y) = args\n",
    "    m = len(y)\n",
    "    y = y.reshape(-1,1)\n",
    "    theta = theta.reshape(-1,1)\n",
    "    X = X.reshape(100,3)\n",
    "    z = X.dot(theta)\n",
    "    h_z = sigmoid(z)\n",
    "    J = (-1/m) *(y.T.dot(np.log(h_z)) + (1-y).T.dot(np.log(1- h_z))) # cost\n",
    "    return J"
   ]
  },
  {
   "cell_type": "code",
   "execution_count": 12,
   "metadata": {},
   "outputs": [],
   "source": [
    "def grad_costFunction(theta, *args):\n",
    "    \"\"\"Compute cost and gradient for logistic regression \"\"\"\n",
    "#     (X, y) = a\n",
    "    (X, y) = args\n",
    "    m = len(y)\n",
    "    X = X.reshape(100,3)\n",
    "    y = y.reshape(-1,1)\n",
    "    theta = theta.reshape(-1,1)\n",
    "    X = X.reshape(100,3)\n",
    "    z = X.dot(theta) #100x1\n",
    "    h_z = sigmoid(z)\n",
    "    grad = (1/m)* X.T.dot(h_z - y) # gradient\n",
    "    return grad.ravel()"
   ]
  },
  {
   "cell_type": "code",
   "execution_count": 13,
   "metadata": {},
   "outputs": [
    {
     "name": "stdout",
     "output_type": "stream",
     "text": [
      "Optimization terminated successfully.\n",
      "         Current function value: 0.203498\n",
      "         Iterations: 23\n",
      "         Function evaluations: 31\n",
      "         Gradient evaluations: 31\n"
     ]
    },
    {
     "name": "stderr",
     "output_type": "stream",
     "text": [
      "/home/duc/Workspace/training-duc-machine-learning-andrew-ng/venv/lib/python3.6/site-packages/ipykernel_launcher.py:10: RuntimeWarning: divide by zero encountered in log\n",
      "  # Remove the CWD from sys.path while we load stuff.\n"
     ]
    }
   ],
   "source": [
    "from scipy.optimize import fmin_bfgs\n",
    "result_optimize = fmin_bfgs(f=costFunction, \n",
    "                            fprime=grad_costFunction,\n",
    "                            x0=initial_theta.ravel(), \n",
    "                            args=(X.ravel(), y.ravel(), ),\n",
    "                            maxiter=400, \n",
    "                            full_output=1, \n",
    "                            disp=1)    "
   ]
  },
  {
   "cell_type": "code",
   "execution_count": 24,
   "metadata": {},
   "outputs": [
    {
     "name": "stdout",
     "output_type": "stream",
     "text": [
      "Cost at theta found by fminunc: 0.20349770158944375\n",
      "Expected cost (approx): 0.203\n",
      "Theta found by fminunc:\n",
      "-25.161332838910422\n",
      "0.20623169711535463\n",
      "0.20147160270028497\n",
      "Expected theta (approx): \n",
      "-25.161\n",
      "0.206\n",
      "0.201\n",
      "\n"
     ]
    }
   ],
   "source": [
    "theta = result_optimize[0].reshape(-1,1)\n",
    "cost = result_optimize[1]\n",
    "print('Cost at theta found by fminunc:', cost)\n",
    "print('Expected cost (approx): 0.203')\n",
    "print('Theta found by fminunc:')\n",
    "for _theta in theta:\n",
    "    print(_theta[0])\n",
    "print('Expected theta (approx): ')\n",
    "print('-25.161\\n0.206\\n0.201\\n')"
   ]
  },
  {
   "cell_type": "markdown",
   "metadata": {},
   "source": [
    "## ============== Part 4: Predict and Accuracies ==============\n",
    "```\n",
    "%  After learning the parameters, you'll like to use it to predict the outcomes\n",
    "%  on unseen data. In this part, you will use the logistic regression model\n",
    "%  to predict the probability that a student with score 45 on exam 1 and \n",
    "%  score 85 on exam 2 will be admitted.\n",
    "%\n",
    "%  Furthermore, you will compute the training and test set accuracies of \n",
    "%  our model.\n",
    "%\n",
    "%  Your task is to complete the code in predict.m\n",
    "\n",
    "%  Predict probability for a student with score 45 on exam 1 \n",
    "%  and score 85 on exam 2 \n",
    "\n",
    "prob = sigmoid([1 45 85] * theta);\n",
    "fprintf(['For a student with scores 45 and 85, we predict an admission ' ...\n",
    "         'probability of %f\\n'], prob);\n",
    "fprintf('Expected value: 0.775 +/- 0.002\\n\\n');\n",
    "\n",
    "% Compute accuracy on our training set\n",
    "p = predict(theta, X);\n",
    "\n",
    "fprintf('Train Accuracy: %f\\n', mean(double(p == y)) * 100);\n",
    "fprintf('Expected accuracy (approx): 89.0\\n');\n",
    "fprintf('\\n');\n",
    "```"
   ]
  },
  {
   "cell_type": "code",
   "execution_count": 25,
   "metadata": {},
   "outputs": [],
   "source": [
    "from predict import predict "
   ]
  },
  {
   "cell_type": "code",
   "execution_count": 28,
   "metadata": {},
   "outputs": [
    {
     "name": "stdout",
     "output_type": "stream",
     "text": [
      "For a student with scores 45 and 85, we predict an admission probability of [0.77629072]\n",
      "Expected value: 0.775 +/- 0.002\n",
      "\n",
      "Train Accuracy:  89.0\n",
      "Expected accuracy (approx): 89.0\n"
     ]
    }
   ],
   "source": [
    "#  Predict probability for a student with score 45 on exam 1 \n",
    "#  and score 85 on exam 2 \n",
    "prob = sigmoid(np.array([1, 45, 85]).dot(theta))\n",
    "print('For a student with scores 45 and 85, we predict an admission probability of', prob)\n",
    "print('Expected value: 0.775 +/- 0.002\\n')\n",
    "\n",
    "# Compute accuracy on our training set\n",
    "pred = predict(theta, X)\n",
    "\n",
    "print('Train Accuracy: ', np.mean(pred == y.flatten()) * 100)\n",
    "print('Expected accuracy (approx): 89.0')"
   ]
  },
  {
   "cell_type": "code",
   "execution_count": null,
   "metadata": {},
   "outputs": [],
   "source": []
  }
 ],
 "metadata": {
  "kernelspec": {
   "display_name": "Python 3",
   "language": "python",
   "name": "python3"
  },
  "language_info": {
   "codemirror_mode": {
    "name": "ipython",
    "version": 3
   },
   "file_extension": ".py",
   "mimetype": "text/x-python",
   "name": "python",
   "nbconvert_exporter": "python",
   "pygments_lexer": "ipython3",
   "version": "3.6.8"
  }
 },
 "nbformat": 4,
 "nbformat_minor": 2
}
