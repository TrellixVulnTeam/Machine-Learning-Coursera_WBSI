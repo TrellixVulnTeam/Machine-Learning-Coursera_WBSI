{
 "cells": [
  {
   "cell_type": "markdown",
   "metadata": {},
   "source": [
    "# Machine Learning Online Class \n",
    "# Exercise 2: Logistic Regression\n",
    "\n",
    "#  Instructions\n",
    "In this exercise, you will implement logistic regression and apply it to two\n",
    "different datasets. Before starting on the programming exercise, we strongly\n",
    "recommend watching the video lectures and completing the review questions\n",
    "for the associated topics.\n",
    "To get started with the exercise, you will need to download the starter\n",
    "code and unzip its contents to the directory where you wish to complete the\n",
    "exercise. If needed, use the cd command in Octave/MATLAB to change to\n",
    "this directory before starting this exercise.\n",
    "You can also find instructions for installing Octave/MATLAB in the “En-\n",
    "vironment Setup Instructions” of the course website.\n",
    "\n",
    "```\n",
    "%  ------------\n",
    "%\n",
    "%  This file contains code that helps you get started on the second part\n",
    "%  of the exercise which covers regularization with logistic regression.\n",
    "%\n",
    "%  You will need to complete the following functions in this exericse:\n",
    "%\n",
    "%     sigmoid.m\n",
    "%     costFunction.m\n",
    "%     predict.m\n",
    "%     costFunctionReg.m\n",
    "%\n",
    "%  For this exercise, you will not need to change any code in this file,\n",
    "%  or any other files other than those mentioned above.\n",
    "%\n",
    "\n",
    "%% Initialization\n",
    "clear ; close all; clc\n",
    "\n",
    "%% Load Data\n",
    "%  The first two columns contains the X values and the third column\n",
    "%  contains the label (y).\n",
    "\n",
    "data = load('ex2data2.txt');\n",
    "X = data(:, [1, 2]); y = data(:, 3);\n",
    "\n",
    "plotData(X, y);\n",
    "\n",
    "% Put some labels\n",
    "hold on;\n",
    "\n",
    "% Labels and Legend\n",
    "xlabel('Microchip Test 1')\n",
    "ylabel('Microchip Test 2')\n",
    "\n",
    "% Specified in plot order\n",
    "legend('y = 1', 'y = 0')\n",
    "hold off;\n",
    "```"
   ]
  },
  {
   "cell_type": "code",
   "execution_count": 1,
   "metadata": {},
   "outputs": [],
   "source": [
    "import numpy as np\n",
    "import matplotlib.pyplot as plt"
   ]
  },
  {
   "cell_type": "code",
   "execution_count": 2,
   "metadata": {},
   "outputs": [],
   "source": [
    "data = np.loadtxt('ex2data2.txt', delimiter=\",\")\n",
    "X = data[:, :2] # 118x2\n",
    "y = data[:, 2] # (118,)"
   ]
  },
  {
   "cell_type": "code",
   "execution_count": 3,
   "metadata": {},
   "outputs": [
    {
     "data": {
      "image/png": "[encoded data removed]",
      "text/plain": [
       "<Figure size 432x288 with 1 Axes>"
      ]
     },
     "metadata": {
      "needs_background": "light"
     },
     "output_type": "display_data"
    }
   ],
   "source": [
    "from plotData import plotData\n",
    "plot, one, zero= plotData(X, y)\n",
    "plt.xlabel('Microchip Test 1')\n",
    "plt.ylabel('Microchip Test 2')\n",
    "plt.legend((one, zero), ('y= 1', 'y= 0'))\n",
    "plt.show()"
   ]
  },
  {
   "cell_type": "markdown",
   "metadata": {},
   "source": [
    "## =========== Part 1: Regularized Logistic Regression ==========\n",
    "\n",
    "```\n",
    "%  In this part, you are given a dataset with data points that are not\n",
    "%  linearly separable. However, you would still like to use logistic\n",
    "%  regression to classify the data points.\n",
    "%\n",
    "%  To do so, you introduce more features to use -- in particular, you add\n",
    "%  polynomial features to our data matrix (similar to polynomial\n",
    "%  regression).\n",
    "%\n",
    "\n",
    "% Add Polynomial Features\n",
    "\n",
    "% Note that mapFeature also adds a column of ones for us, so the intercept\n",
    "% term is handled\n",
    "X = mapFeature(X(:,1), X(:,2));\n",
    "\n",
    "% Initialize fitting parameters\n",
    "initial_theta = zeros(size(X, 2), 1);\n",
    "\n",
    "% Set regularization parameter lambda to 1\n",
    "lambda = 1;\n",
    "\n",
    "% Compute and display initial cost and gradient for regularized logistic\n",
    "% regression\n",
    "[cost, grad] = costFunctionReg(initial_theta, X, y, lambda);\n",
    "\n",
    "fprintf('Cost at initial theta (zeros): %f\\n', cost);\n",
    "fprintf('Expected cost (approx): 0.693\\n');\n",
    "fprintf('Gradient at initial theta (zeros) - first five values only:\\n');\n",
    "fprintf(' %f \\n', grad(1:5));\n",
    "fprintf('Expected gradients (approx) - first five values only:\\n');\n",
    "fprintf(' 0.0085\\n 0.0188\\n 0.0001\\n 0.0503\\n 0.0115\\n');\n",
    "\n",
    "fprintf('\\nProgram paused. Press enter to continue.\\n');\n",
    "pause;\n",
    "\n",
    "% Compute and display cost and gradient\n",
    "% with all-ones theta and lambda = 10\n",
    "test_theta = ones(size(X,2),1);\n",
    "[cost, grad] = costFunctionReg(test_theta, X, y, 10);\n",
    "\n",
    "fprintf('\\nCost at test theta (with lambda = 10): %f\\n', cost);\n",
    "fprintf('Expected cost (approx): 3.16\\n');\n",
    "fprintf('Gradient at test theta - first five values only:\\n');\n",
    "fprintf(' %f \\n', grad(1:5));\n",
    "fprintf('Expected gradients (approx) - first five values only:\\n');\n",
    "fprintf(' 0.3460\\n 0.1614\\n 0.1948\\n 0.2269\\n 0.0922\\n');\n",
    "\n",
    "fprintf('\\nProgram paused. Press enter to continue.\\n');\n",
    "pause;\n",
    "```"
   ]
  },
  {
   "cell_type": "code",
   "execution_count": 4,
   "metadata": {
    "scrolled": true
   },
   "outputs": [
    {
     "name": "stdout",
     "output_type": "stream",
     "text": [
      "Cost at initial theta (zeros): 0.693\n",
      "Expected cost (approx): 0.693\n",
      "\n",
      "Gradient at initial theta (zeros) - first five values only:\n",
      "\n",
      "0.0085\n",
      "0.0188\n",
      "0.0001\n",
      "0.0503\n",
      "0.0115\n",
      "\n",
      "Expected gradients (approx) - first five values only:\n",
      "\n",
      "0.0085\n",
      "0.0188\n",
      "0.0001\n",
      "0.0503\n",
      "0.0115\n",
      "\n"
     ]
    }
   ],
   "source": [
    "y = y.reshape(-1,1) #(118,1)\n",
    "from mapFeature import mapFeature\n",
    "from costFunctionReg import costFunctionReg\n",
    "# Add Polynomial Features\n",
    "\n",
    "# Note that mapFeature also adds a column of ones for us, so the intercept term is handled\n",
    "New = mapFeature(X[:,0], X[:,1])\n",
    "\n",
    "# Initialize fitting parameters\n",
    "initial_theta = np.zeros((New.shape[1], 1))\n",
    "\n",
    "# Set regularization parameter lambda to 1\n",
    "lbd = 1\n",
    "\n",
    "# Compute and display initial cost and gradient for regularized logistic regression\n",
    "cost, grad= costFunctionReg(initial_theta, New, y, lbd)\n",
    "\n",
    "print('Cost at initial theta (zeros): {:.3f}'.format(cost[0,0]))\n",
    "print('Expected cost (approx): 0.693\\n')\n",
    "print('Gradient at initial theta (zeros) - first five values only:\\n')\n",
    "for i in range(5):\n",
    "    print('{:.4f}'.format(grad[i,0]))\n",
    "print('\\nExpected gradients (approx) - first five values only:\\n')\n",
    "print('0.0085\\n0.0188\\n0.0001\\n0.0503\\n0.0115\\n')"
   ]
  },
  {
   "cell_type": "markdown",
   "metadata": {},
   "source": [
    "## ========== Part 2: Regularization and Accuracies ===========\n",
    "```\n",
    "%  Optional Exercise:\n",
    "%  In this part, you will get to try different values of lambda and\n",
    "%  see how regularization affects the decision coundart\n",
    "%\n",
    "%  Try the following values of lambda (0, 1, 10, 100).\n",
    "%\n",
    "%  How does the decision boundary change when you vary lambda? How does\n",
    "%  the training set accuracy vary?\n",
    "```"
   ]
  },
  {
   "cell_type": "code",
   "execution_count": 5,
   "metadata": {},
   "outputs": [],
   "source": [
    "lbd =1\n",
    "# Initialize fitting parameters\n",
    "initial_theta = np.zeros((New.shape[1], 1))"
   ]
  },
  {
   "cell_type": "code",
   "execution_count": 6,
   "metadata": {},
   "outputs": [],
   "source": [
    "from sigmoid import sigmoid\n",
    "def J_costFunctionReg(theta, *args):\n",
    "    \"\"\"\n",
    "    \"\"\"\n",
    "    # Args\n",
    "    X, y, lbd = args\n",
    "    # Reshape \n",
    "    X = X.reshape(-1, len(theta))\n",
    "    y = y.reshape(-1, 1)\n",
    "    theta = theta.reshape(-1, 1)\n",
    "    m = len(y) # number of samples\n",
    "    # Compute J \n",
    "    z = X.dot(theta) \n",
    "    h_z = sigmoid(z) \n",
    "    reg = lbd/(2*m) * (theta[1:].T.dot(theta[1:]))\n",
    "    J = (-1/m) *(y.T.dot(np.log(h_z)) + (1-y).T.dot(np.log(1- h_z))) + reg\n",
    "    return J"
   ]
  },
  {
   "cell_type": "code",
   "execution_count": 7,
   "metadata": {},
   "outputs": [],
   "source": [
    "def grad_costFunctionReg(theta, *args):\n",
    "    \"\"\"\n",
    "    \"\"\"\n",
    "    # Args\n",
    "    X, y, lbd = args\n",
    "    # Reshape\n",
    "    X = X.reshape(-1, len(theta))\n",
    "    y = y.reshape(-1, 1)\n",
    "    theta = theta.reshape(-1, 1)\n",
    "    # Compute grad of theta\n",
    "    grad = np.zeros(theta.shape) # initial theta\n",
    "    m = len(y) # number of samples\n",
    "    z = X.dot(theta) \n",
    "    h_z = sigmoid(z) \n",
    "    theta[0] = 0\n",
    "    \n",
    "    grad = (1/m)*X.T.dot(h_z - y) + (lbd/m)*theta\n",
    "    return grad.ravel()"
   ]
  },
  {
   "cell_type": "code",
   "execution_count": 8,
   "metadata": {},
   "outputs": [
    {
     "name": "stdout",
     "output_type": "stream",
     "text": [
      "Optimization terminated successfully.\n",
      "         Current function value: 0.529003\n",
      "         Iterations: 47\n",
      "         Function evaluations: 48\n",
      "         Gradient evaluations: 48\n"
     ]
    }
   ],
   "source": [
    "from scipy.optimize import fmin_bfgs\n",
    "result_optimize = fmin_bfgs(f=J_costFunctionReg, \n",
    "                            fprime=grad_costFunctionReg,\n",
    "                            x0=initial_theta.ravel(), \n",
    "                            args=(New.ravel(), y.ravel(), lbd, ),\n",
    "                            maxiter=400, \n",
    "                            full_output=1, \n",
    "                            disp=1)  "
   ]
  },
  {
   "cell_type": "code",
   "execution_count": 9,
   "metadata": {},
   "outputs": [],
   "source": [
    "theta = result_optimize[0]"
   ]
  },
  {
   "cell_type": "code",
   "execution_count": 10,
   "metadata": {},
   "outputs": [
    {
     "name": "stdout",
     "output_type": "stream",
     "text": [
      "Train Accuracy:  83.05084745762711\n",
      "Expected accuracy (with lambda = 1): 83.1 (approx)\n",
      "\n"
     ]
    }
   ],
   "source": [
    "from predict import predict\n",
    "pred = predict(theta, New)\n",
    "print('Train Accuracy: ', np.mean(pred == y.flatten()) * 100)\n",
    "print('Expected accuracy (with lambda = 1): 83.1 (approx)\\n')"
   ]
  },
  {
   "cell_type": "code",
   "execution_count": 12,
   "metadata": {},
   "outputs": [
    {
     "name": "stderr",
     "output_type": "stream",
     "text": [
      "/home/duc/Workspace/training-duc-machine-learning-andrew-ng/week3/[Python]machine-learning-ex2/plotDecisionBoundary.py:54: UserWarning: The following kwargs were not used by contour: 'linewidth'\n",
      "  p3 = plt.contour(u, v, z, levels=[0], linewidth=2).collections[0]\n"
     ]
    },
    {
     "data": {
      "image/png": "[encoded data removed]",
      "text/plain": [
       "<Figure size 432x288 with 1 Axes>"
      ]
     },
     "metadata": {
      "needs_background": "light"
     },
     "output_type": "display_data"
    }
   ],
   "source": [
    "from plotDecisionBoundary import plotDecisionBoundary\n",
    "# Plot Boundary\n",
    "plotDecisionBoundary(theta, New, y)"
   ]
  }
 ],
 "metadata": {
  "kernelspec": {
   "display_name": "Python 3",
   "language": "python",
   "name": "python3"
  },
  "language_info": {
   "codemirror_mode": {
    "name": "ipython",
    "version": 3
   },
   "file_extension": ".py",
   "mimetype": "text/x-python",
   "name": "python",
   "nbconvert_exporter": "python",
   "pygments_lexer": "ipython3",
   "version": "3.6.8"
  }
 },
 "nbformat": 4,
 "nbformat_minor": 2
}
