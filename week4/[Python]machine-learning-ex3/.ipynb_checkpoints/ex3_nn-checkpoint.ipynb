{
 "cells": [
  {
   "cell_type": "markdown",
   "metadata": {},
   "source": [
    "## Machine Learning Online Class - Exercise 3 | Part 2: Neural Networks\n",
    "\n",
    "###  Instructions:\n",
    "```\n",
    "%  ------------\n",
    "% \n",
    "%  This file contains code that helps you get started on the\n",
    "%  linear exercise. You will need to complete the following functions \n",
    "%  in this exericse:\n",
    "%\n",
    "%     lrCostFunction.m (logistic regression cost function)\n",
    "%     oneVsAll.m\n",
    "%     predictOneVsAll.m\n",
    "%     predict.m\n",
    "%\n",
    "%  For this exercise, you will not need to change any code in this file,\n",
    "%  or any other files other than those mentioned above.\n",
    "```"
   ]
  },
  {
   "cell_type": "code",
   "execution_count": 1,
   "metadata": {},
   "outputs": [],
   "source": [
    "# Setup the parameters you will use for this exercise\n",
    "input_layer_size  = 400  # 20x20 Input Images of Digits\n",
    "hidden_layer_size = 25   # 25 hidden units\n",
    "num_labels = 10          # 10 labels, from 1 to 10  "
   ]
  },
  {
   "cell_type": "markdown",
   "metadata": {},
   "source": [
    "## ========= Part 1: Loading and Visualizing Data ==========\n",
    "```\n",
    "%  We start the exercise by first loading and visualizing the dataset. \n",
    "%  You will be working with a dataset that contains handwritten digits.\n",
    "%\n",
    "\n",
    "% Load Training Data\n",
    "fprintf('Loading and Visualizing Data ...\\n')\n",
    "\n",
    "load('ex3data1.mat');\n",
    "m = size(X, 1);\n",
    "\n",
    "% Randomly select 100 data points to display\n",
    "sel = randperm(size(X, 1));\n",
    "sel = sel(1:100);\n",
    "\n",
    "displayData(X(sel, :));\n",
    "\n",
    "fprintf('Program paused. Press enter to continue.\\n');\n",
    "pause;\n",
    "```"
   ]
  },
  {
   "cell_type": "code",
   "execution_count": 3,
   "metadata": {},
   "outputs": [],
   "source": [
    "import numpy as np\n",
    "import scipy.io\n",
    "data = scipy.io.loadmat('ex3data1.mat')"
   ]
  },
  {
   "cell_type": "code",
   "execution_count": 4,
   "metadata": {},
   "outputs": [],
   "source": [
    "X= data['X']\n",
    "y= data['y']"
   ]
  },
  {
   "cell_type": "markdown",
   "metadata": {},
   "source": [
    "## ============ Part 2: Loading Pameters ============\n",
    "```\n",
    "% In this part of the exercise, we load some pre-initialized \n",
    "% neural network parameters.\n",
    "\n",
    "fprintf('\\nLoading Saved Neural Network Parameters ...\\n')\n",
    "\n",
    "% Load the weights into variables Theta1 and Theta2\n",
    "load('ex3weights.mat');\n",
    "```"
   ]
  },
  {
   "cell_type": "code",
   "execution_count": 5,
   "metadata": {},
   "outputs": [],
   "source": [
    "data_weights = scipy.io.loadmat('ex3weights.mat')"
   ]
  },
  {
   "cell_type": "code",
   "execution_count": 7,
   "metadata": {},
   "outputs": [],
   "source": [
    "Theta1= data_weights['Theta1']\n",
    "Theta2 = data_weights['Theta2']"
   ]
  },
  {
   "cell_type": "code",
   "execution_count": 9,
   "metadata": {},
   "outputs": [
    {
     "data": {
      "text/plain": [
       "(10, 26)"
      ]
     },
     "execution_count": 9,
     "metadata": {},
     "output_type": "execute_result"
    }
   ],
   "source": [
    "Theta2.shape"
   ]
  },
  {
   "cell_type": "markdown",
   "metadata": {},
   "source": [
    "## ============== Part 3: Implement Predict ==============\n",
    "```\n",
    "%  After training the neural network, we would like to use it to predict\n",
    "%  the labels. You will now implement the \"predict\" function to use the\n",
    "%  neural network to predict the labels of the training set. This lets\n",
    "%  you compute the training set accuracy.\n",
    "\n",
    "pred = predict(Theta1, Theta2, X);\n",
    "\n",
    "fprintf('\\nTraining Set Accuracy: %f\\n', mean(double(pred == y)) * 100);\n",
    "\n",
    "fprintf('Program paused. Press enter to continue.\\n');\n",
    "pause;\n",
    "```"
   ]
  },
  {
   "cell_type": "code",
   "execution_count": 13,
   "metadata": {},
   "outputs": [],
   "source": [
    "from predict import predict"
   ]
  },
  {
   "cell_type": "code",
   "execution_count": 23,
   "metadata": {},
   "outputs": [
    {
     "name": "stdout",
     "output_type": "stream",
     "text": [
      "\n",
      "Training Set Accuracy: 0.12\n"
     ]
    }
   ],
   "source": [
    "pred = predict(Theta1, Theta2, X);\n",
    "\n",
    "print('\\nTraining Set Accuracy:', np.mean(pred == y.flatten()) * 100)"
   ]
  },
  {
   "cell_type": "code",
   "execution_count": 22,
   "metadata": {},
   "outputs": [],
   "source": [
    "from sigmoid import sigmoid\n",
    "import numpy as np\n",
    "def predict(Theta1, Theta2, X):\n",
    "    \"\"\"\n",
    "    PREDICT Predict the label of an input given a trained neural network\n",
    "    p = PREDICT(Theta1, Theta2, X) outputs the predicted label of X given the\n",
    "    trained weights of a neural network (Theta1, Theta2)\"\"\"\n",
    "\n",
    "    # Useful values\n",
    "    # X shape: 5000x 400\n",
    "    # Theta1 shape: 25 x401\n",
    "    # Theta2 shape: 10 x26\n",
    "\n",
    "\n",
    "    m = X.shape[0] # 5000\n",
    "    num_labels = Theta2.shape[0] # 10\n",
    "\n",
    "    # You need to return the following variables correctly \n",
    "    p = np.zeros((X.shape[0], 1)) # 5000 x1\n",
    "\n",
    "#  ====================== YOUR CODE HERE ======================\n",
    "#  Instructions: Complete the following code to make predictions using\n",
    "#                your learned neural network. You should set p to a \n",
    "#                vector containing labels between 1 to num_labels.\n",
    "# \n",
    "#  Hint: The max function might come in useful. In particular, the max\n",
    "#        function can also return the index of the max element, for more\n",
    "#        information see 'help max'. If your examples are in rows, then, you\n",
    "#        can use max(A, [], 2) to obtain the max for each row.    \n",
    "\n",
    "    a1 = np.concatenate((np.ones((m, 1)), X), axis=1) # 5000x 401\n",
    "    z2 = a1.dot(Theta1.T) # -> 5000 x 25\n",
    "    a2 = sigmoid(z2)\n",
    "\n",
    "    # a2 = [ones(size(a2,1), 1) a2]\n",
    "    a2 = np.concatenate((np.ones((a2.shape[0], 1)), a2), axis=1) #5000x26\n",
    "\n",
    "    z3 = a2.dot(Theta2.T) # -> 5000x 10\n",
    "    a3= sigmoid(z3)\n",
    "    # [prob, p] = max(a3, [], 2)\n",
    "    p = np.argmax(a3, axis=1)\n",
    "    return p +1"
   ]
  },
  {
   "cell_type": "code",
   "execution_count": 24,
   "metadata": {},
   "outputs": [
    {
     "data": {
      "text/plain": [
       "(5000,)"
      ]
     },
     "execution_count": 24,
     "metadata": {},
     "output_type": "execute_result"
    }
   ],
   "source": [
    "y.flatten().shape"
   ]
  }
 ],
 "metadata": {
  "kernelspec": {
   "display_name": "Python 3",
   "language": "python",
   "name": "python3"
  },
  "language_info": {
   "codemirror_mode": {
    "name": "ipython",
    "version": 3
   },
   "file_extension": ".py",
   "mimetype": "text/x-python",
   "name": "python",
   "nbconvert_exporter": "python",
   "pygments_lexer": "ipython3",
   "version": "3.6.8"
  }
 },
 "nbformat": 4,
 "nbformat_minor": 2
}
