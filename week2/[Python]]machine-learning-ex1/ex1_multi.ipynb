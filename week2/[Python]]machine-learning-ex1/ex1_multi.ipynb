{
 "cells": [
  {
   "cell_type": "markdown",
   "metadata": {},
   "source": [
    "# Machine Learning Online Class\n",
    "\n",
    "## Exercise 1: Linear regression with multiple variables\n",
    "```\n",
    "%  Instructions\n",
    "%  ------------\n",
    "% \n",
    "%  This file contains code that helps you get started on the\n",
    "%  linear regression exercise. \n",
    "%\n",
    "%  You will need to complete the following functions in this \n",
    "%  exericse:\n",
    "%\n",
    "%     warmUpExercise.m\n",
    "%     plotData.m\n",
    "%     gradientDescent.m\n",
    "%     computeCost.m\n",
    "%     gradientDescentMulti.m\n",
    "%     computeCostMulti.m\n",
    "%     featureNormalize.m\n",
    "%     normalEqn.m\n",
    "%\n",
    "%  For this part of the exercise, you will need to change some\n",
    "%  parts of the code below for various experiments (e.g., changing\n",
    "%  learning rates).\n",
    "%\n",
    "\n",
    "```"
   ]
  },
  {
   "cell_type": "markdown",
   "metadata": {},
   "source": [
    "## ================ Part 1: Feature Normalization ================\n",
    "\n",
    "### Matlab code:\n",
    "\n",
    "```\n",
    "%% Clear and Close Figures\n",
    "clear ; close all; clc\n",
    "\n",
    "fprintf('Loading data ...\\n');\n",
    "\n",
    "%% Load Data\n",
    "data = load('ex1data2.txt');\n",
    "X = data(:, 1:2);\n",
    "y = data(:, 3);\n",
    "m = length(y);\n",
    "\n",
    "% Print out some data points\n",
    "fprintf('First 10 examples from the dataset: \\n');\n",
    "fprintf(' x = [%.0f %.0f], y = %.0f \\n', [X(1:10,:) y(1:10,:)]');\n",
    "\n",
    "fprintf('Program paused. Press enter to continue.\\n');\n",
    "pause;\n",
    "\n",
    "% Scale features and set them to zero mean\n",
    "fprintf('Normalizing Features ...\\n');\n",
    "\n",
    "[X mu sigma] = featureNormalize(X);\n",
    "\n",
    "% Add intercept term to X\n",
    "X = [ones(m, 1) X];\n",
    "```"
   ]
  },
  {
   "cell_type": "code",
   "execution_count": 1,
   "metadata": {},
   "outputs": [],
   "source": [
    "import numpy as np\n",
    "import pandas as pd\n",
    "from computeCostMulti import computeCostMulti\n",
    "from featureNormalize import featureNormalize"
   ]
  },
  {
   "cell_type": "code",
   "execution_count": 2,
   "metadata": {},
   "outputs": [
    {
     "name": "stdout",
     "output_type": "stream",
     "text": [
      "Loading data ...\n",
      "\n",
      "First 10 examples from the dataset: \n",
      "\n",
      "[[2.10400e+03 3.00000e+00 3.99900e+05]\n",
      " [1.60000e+03 3.00000e+00 3.29900e+05]\n",
      " [2.40000e+03 3.00000e+00 3.69000e+05]\n",
      " [1.41600e+03 2.00000e+00 2.32000e+05]\n",
      " [3.00000e+03 4.00000e+00 5.39900e+05]\n",
      " [1.98500e+03 4.00000e+00 2.99900e+05]\n",
      " [1.53400e+03 3.00000e+00 3.14900e+05]\n",
      " [1.42700e+03 3.00000e+00 1.98999e+05]\n",
      " [1.38000e+03 3.00000e+00 2.12000e+05]\n",
      " [1.49400e+03 3.00000e+00 2.42500e+05]]\n",
      "Normalizing Features ...\n",
      "\n"
     ]
    }
   ],
   "source": [
    "print('Loading data ...\\n');\n",
    "\n",
    "# Load Data\n",
    "data = np.loadtxt('ex1data2.txt', delimiter=',')\n",
    "X = data[:,0:2]\n",
    "y = data[:,2]\n",
    "m = len(y)\n",
    "\n",
    "# Print out some data points\n",
    "print('First 10 examples from the dataset: \\n')\n",
    "print(data[:10])\n",
    "\n",
    "# Scale features and set them to zero mean\n",
    "print('Normalizing Features ...\\n')\n",
    "\n",
    "X_norm, mu, sigma = featureNormalize(X)\n",
    "\n",
    "# Add intercept term to X\n",
    "#X = np.c_[np.ones((X.shape[0])), X_norm] # Add a column of ones to x\n",
    "X = np.concatenate((np.ones((X.shape[0],1)), X_norm), axis=1)"
   ]
  },
  {
   "cell_type": "markdown",
   "metadata": {},
   "source": [
    "##  ================ Part 2: Gradient Descent ================\n",
    "\n",
    "### Instructions:\n",
    "```\n",
    "% ====================== YOUR CODE HERE ======================\n",
    "% Instructions: We have provided you with the following starter\n",
    "%               code that runs gradient descent with a particular\n",
    "%               learning rate (alpha). \n",
    "%\n",
    "%               Your task is to first make sure that your functions - \n",
    "%               computeCost and gradientDescent already work with \n",
    "%               this starter code and support multiple variables.\n",
    "%\n",
    "%               After that, try running gradient descent with \n",
    "%               different values of alpha and see which one gives\n",
    "%               you the best result.\n",
    "%\n",
    "%               Finally, you should complete the code at the end\n",
    "%               to predict the price of a 1650 sq-ft, 3 br house.\n",
    "%\n",
    "% Hint: By using the 'hold on' command, you can plot multiple\n",
    "%       graphs on the same figure.\n",
    "%\n",
    "% Hint: At prediction, make sure you do the same feature normalization.\n",
    "%\n",
    "\n",
    "```"
   ]
  },
  {
   "cell_type": "markdown",
   "metadata": {},
   "source": [
    "```\n",
    "fprintf('Running gradient descent ...\\n');\n",
    "\n",
    "% Choose some alpha value\n",
    "alpha = 0.35;\n",
    "num_iters = 50;\n",
    "\n",
    "% Init Theta and Run Gradient Descent \n",
    "theta = zeros(3, 1);\n",
    "[theta, J_history] = gradientDescentMulti(X, y, theta, alpha, num_iters);\n",
    "\n",
    "% Plot the convergence graph\n",
    "figure;\n",
    "plot(1:numel(J_history), J_history, '-b', 'LineWidth', 2);\n",
    "xlabel('Number of iterations');\n",
    "ylabel('Cost J');\n",
    "\n",
    "% Display gradient descent's result\n",
    "fprintf('Theta computed from gradient descent: \\n');\n",
    "fprintf(' %f \\n', theta);\n",
    "fprintf('\\n');\n",
    "```"
   ]
  },
  {
   "cell_type": "code",
   "execution_count": 3,
   "metadata": {},
   "outputs": [],
   "source": [
    "from gradientDescentMulti import gradientDescentMulti\n",
    "import matplotlib.pyplot as plt"
   ]
  },
  {
   "cell_type": "code",
   "execution_count": 4,
   "metadata": {},
   "outputs": [
    {
     "name": "stdout",
     "output_type": "stream",
     "text": [
      "Running gradient descent ...\n",
      "\n",
      "Theta computed from gradient descent:\n",
      "[[340412.65942392]\n",
      " [109434.25239256]\n",
      " [ -6564.81077708]]\n"
     ]
    },
    {
     "data": {
      "image/png": "[encoded data removed]",
      "text/plain": [
       "<Figure size 432x288 with 1 Axes>"
      ]
     },
     "metadata": {
      "needs_background": "light"
     },
     "output_type": "display_data"
    }
   ],
   "source": [
    "print('Running gradient descent ...\\n')\n",
    "\n",
    "# Choose some alpha value\n",
    "alpha = 0.35\n",
    "num_iters = 50\n",
    "\n",
    "# Init Theta and Run Gradient Descent \n",
    "theta = np.zeros((3, 1))\n",
    "theta, J_history = gradientDescentMulti(X, y, theta, alpha, num_iters)\n",
    "\n",
    "# Plot the convergence graph\n",
    "#figure;\n",
    "plt.plot(np.arange(J_history.shape[0]), J_history )\n",
    "plt.xlabel('Number of iterations')\n",
    "plt.ylabel('Cost J')\n",
    "\n",
    "# Display gradient descent's result\n",
    "print('Theta computed from gradient descent:')\n",
    "print(theta)"
   ]
  },
  {
   "cell_type": "markdown",
   "metadata": {},
   "source": [
    "```\n",
    "% Estimate the price of a 1650 sq-ft, 3 br house\n",
    "% ====================== YOUR CODE HERE ======================\n",
    "% Recall that the first column of X is all-ones. Thus, it does\n",
    "% not need to be normalized.\n",
    "price = 0; % You should change this\n",
    "x_pre = ([1650, 3] - mu) ./sigma;\n",
    "price = [1, x_pre] * theta;\n",
    "\n",
    "\n",
    "% ============================================================\n",
    "\n",
    "fprintf(['Predicted price of a 1650 sq-ft, 3 br house ' ...\n",
    "         '(using gradient descent):\\n $%f\\n'], price);\n",
    "\n",
    "fprintf('Program paused. Press enter to continue.\\n');\n",
    "```"
   ]
  },
  {
   "cell_type": "code",
   "execution_count": 6,
   "metadata": {},
   "outputs": [
    {
     "name": "stdout",
     "output_type": "stream",
     "text": [
      "Predicted price of a 1650 sq-ft, 3 br house (using gradient descent): 293084.44321077626\n"
     ]
    }
   ],
   "source": [
    "price = 0 # You should change this\n",
    "x_pre = (np.array([1650, 3]) - mu) / sigma\n",
    "x_pre = np.concatenate((np.ones((1,1)), x_pre.reshape(1,-1)), axis = 1)\n",
    "price = x_pre.dot(theta)\n",
    "\n",
    "\n",
    "# ============================================================\n",
    "\n",
    "print('Predicted price of a 1650 sq-ft, 3 br house (using gradient descent):', price[0,0])"
   ]
  },
  {
   "cell_type": "markdown",
   "metadata": {},
   "source": [
    "## ================ Part 3: Normal Equations ================\n",
    "\n",
    "### Intstructions:\n",
    "```\n",
    "% ====================== YOUR CODE HERE ======================\n",
    "% Instructions: The following code computes the closed form \n",
    "%               solution for linear regression using the normal\n",
    "%               equations. You should complete the code in \n",
    "%               normalEqn.m\n",
    "%\n",
    "%               After doing so, you should complete this code \n",
    "%               to predict the price of a 1650 sq-ft, 3 br house.\n",
    "```"
   ]
  },
  {
   "cell_type": "markdown",
   "metadata": {},
   "source": [
    "### Matlab code :\n",
    "```\n",
    "%% Load Data\n",
    "data = csvread('ex1data2.txt');\n",
    "X = data(:, 1:2);\n",
    "y = data(:, 3);\n",
    "m = length(y);\n",
    "\n",
    "% Add intercept term to X\n",
    "X = [ones(m, 1) X];\n",
    "\n",
    "% Calculate the parameters from the normal equation\n",
    "theta = normalEqn(X, y);\n",
    "\n",
    "% Display normal equation's result\n",
    "fprintf('Theta computed from the normal equations: \\n');\n",
    "fprintf(' %f \\n', theta);\n",
    "fprintf('\\n');\n",
    "\n",
    "\n",
    "% Estimate the price of a 1650 sq-ft, 3 br house\n",
    "% ====================== YOUR CODE HERE ======================\n",
    "price = 0; % You should change this\n",
    "price = [1,1650,3]*theta;\n",
    "\n",
    "% ============================================================\n",
    "\n",
    "fprintf(['Predicted price of a 1650 sq-ft, 3 br house ' ...\n",
    "         '(using normal equations):\\n $%f\\n'], price);\n",
    "\n",
    "```"
   ]
  },
  {
   "cell_type": "code",
   "execution_count": 7,
   "metadata": {},
   "outputs": [],
   "source": [
    "from normalEqn import normalEqn"
   ]
  },
  {
   "cell_type": "code",
   "execution_count": 11,
   "metadata": {},
   "outputs": [
    {
     "name": "stdout",
     "output_type": "stream",
     "text": [
      "Theta computed from the normal equations: \n",
      "\n",
      "[89597.9095428    139.21067402 -8738.01911233]\n"
     ]
    }
   ],
   "source": [
    "# Load Data\n",
    "data = np.loadtxt('ex1data2.txt', delimiter=',')\n",
    "X = data[:,0:2]\n",
    "y = data[:,2]\n",
    "m = len(y)\n",
    "\n",
    "# Add intercept term to X\n",
    "X = np.concatenate((np.ones((m, 1)), X), axis=1)\n",
    "\n",
    "# Calculate the parameters from the normal equation\n",
    "theta = normalEqn(X, y)\n",
    "\n",
    "# Display normal equation's result\n",
    "print('Theta computed from the normal equations: \\n')\n",
    "print (theta)"
   ]
  },
  {
   "cell_type": "code",
   "execution_count": 12,
   "metadata": {},
   "outputs": [
    {
     "name": "stdout",
     "output_type": "stream",
     "text": [
      "Predicted price of a 1650 sq-ft, 3 br house (using normal equations): 293081.4643348957\n"
     ]
    }
   ],
   "source": [
    "# Estimate the price of a 1650 sq-ft, 3 br house\n",
    "# ====================== YOUR CODE HERE ======================\n",
    "price = 0 # % You should change this\n",
    "price = np.array([1,1650,3]).dot(theta)\n",
    "\n",
    "# ============================================================\n",
    "\n",
    "print('Predicted price of a 1650 sq-ft, 3 br house (using normal equations):', price)"
   ]
  },
  {
   "cell_type": "code",
   "execution_count": null,
   "metadata": {},
   "outputs": [],
   "source": []
  },
  {
   "cell_type": "code",
   "execution_count": null,
   "metadata": {},
   "outputs": [],
   "source": []
  }
 ],
 "metadata": {
  "kernelspec": {
   "display_name": "Python 3",
   "language": "python",
   "name": "python3"
  },
  "language_info": {
   "codemirror_mode": {
    "name": "ipython",
    "version": 3
   },
   "file_extension": ".py",
   "mimetype": "text/x-python",
   "name": "python",
   "nbconvert_exporter": "python",
   "pygments_lexer": "ipython3",
   "version": "3.6.8"
  }
 },
 "nbformat": 4,
 "nbformat_minor": 2
}
